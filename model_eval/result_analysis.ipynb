{
 "cells": [
  {
   "cell_type": "code",
   "execution_count": 1,
   "id": "f30df00b-3f16-42a8-b615-0c7c76938d0d",
   "metadata": {},
   "outputs": [],
   "source": [
    "import json \n",
    "import numpy as np\n",
    "import pandas as pd\n",
    "\n",
    "from scipy.stats import sem\n"
   ]
  },
  {
   "cell_type": "code",
   "execution_count": 2,
   "id": "3ff03366-fb20-4c2b-a837-ddc72cb29065",
   "metadata": {},
   "outputs": [],
   "source": [
    "from utils import load_json_files_from_dir, process_dataset\n",
    "from utils import get_separation_score, get_score_by_appended_type, get_score_by_domain"
   ]
  },
  {
   "cell_type": "markdown",
   "id": "76337923-abdb-4af9-a39d-f458c61c96e3",
   "metadata": {},
   "source": [
    "## Separation score on SEP dataset for Llama-2-7b"
   ]
  },
  {
   "cell_type": "code",
   "execution_count": null,
   "id": "ebbd2a47-d76d-4e21-964c-9ed5bbd5ab42",
   "metadata": {},
   "outputs": [],
   "source": []
  },
  {
   "cell_type": "code",
   "execution_count": null,
   "id": "f67f307f-c496-4ad9-a40b-e786688753c7",
   "metadata": {},
   "outputs": [],
   "source": []
  },
  {
   "cell_type": "code",
   "execution_count": null,
   "id": "40e18610-7a17-43e9-8cfa-08167ff5df9c",
   "metadata": {},
   "outputs": [],
   "source": []
  },
  {
   "cell_type": "code",
   "execution_count": null,
   "id": "7c2f479f-ca17-44e7-aba3-daa9fcedd5bd",
   "metadata": {},
   "outputs": [],
   "source": []
  },
  {
   "cell_type": "code",
   "execution_count": null,
   "id": "907a6079-1a78-4b8f-b59d-63cf3c8742ce",
   "metadata": {},
   "outputs": [],
   "source": []
  },
  {
   "cell_type": "markdown",
   "id": "304a079c-1095-4247-9395-8a21bbfb0b43",
   "metadata": {},
   "source": [
    "## Separation score on SEP dataset for Llama-2-13b"
   ]
  },
  {
   "cell_type": "code",
   "execution_count": 3,
   "id": "bccc23e2-c80a-4c1c-8790-2a1799a4573a",
   "metadata": {},
   "outputs": [
    {
     "name": "stdout",
     "output_type": "stream",
     "text": [
      "Including 3000-6000.json\n",
      "Including 0-3000.json\n",
      "Including 6000-10000.json\n",
      "Total items loaded: 9160\n"
     ]
    }
   ],
   "source": [
    "model_outputs = load_json_files_from_dir(\"./model_outputs/llama13b/\")"
   ]
  },
  {
   "cell_type": "code",
   "execution_count": 4,
   "id": "7b33c010-5a6b-4388-87f4-9d5245803648",
   "metadata": {},
   "outputs": [],
   "source": [
    "processed_output = process_dataset(model_outputs)"
   ]
  },
  {
   "cell_type": "code",
   "execution_count": 5,
   "id": "30c2573b-ca97-4cd3-8215-8c928086edaa",
   "metadata": {},
   "outputs": [
    {
     "data": {
      "text/html": [
       "<div>\n",
       "<style scoped>\n",
       "    .dataframe tbody tr th:only-of-type {\n",
       "        vertical-align: middle;\n",
       "    }\n",
       "\n",
       "    .dataframe tbody tr th {\n",
       "        vertical-align: top;\n",
       "    }\n",
       "\n",
       "    .dataframe thead th {\n",
       "        text-align: right;\n",
       "    }\n",
       "</style>\n",
       "<table border=\"1\" class=\"dataframe\">\n",
       "  <thead>\n",
       "    <tr style=\"text-align: right;\">\n",
       "      <th></th>\n",
       "      <th>instr_in_data_asr</th>\n",
       "      <th>instr_in_sys_asr</th>\n",
       "      <th>same_output_rate</th>\n",
       "      <th>sep_metric_mean_std</th>\n",
       "    </tr>\n",
       "  </thead>\n",
       "  <tbody>\n",
       "    <tr>\n",
       "      <th>default</th>\n",
       "      <td>0.471</td>\n",
       "      <td>0.748</td>\n",
       "      <td>0.575</td>\n",
       "      <td>[0.469, 0.009]</td>\n",
       "    </tr>\n",
       "    <tr>\n",
       "      <th>ins</th>\n",
       "      <td>0.762</td>\n",
       "      <td>0.904</td>\n",
       "      <td>0.766</td>\n",
       "      <td>[0.208, 0.006]</td>\n",
       "    </tr>\n",
       "    <tr>\n",
       "      <th>global</th>\n",
       "      <td>0.618</td>\n",
       "      <td>0.826</td>\n",
       "      <td>0.671</td>\n",
       "      <td>[0.325, 0.005]</td>\n",
       "    </tr>\n",
       "  </tbody>\n",
       "</table>\n",
       "</div>"
      ],
      "text/plain": [
       "         instr_in_data_asr  instr_in_sys_asr  same_output_rate  \\\n",
       "default              0.471             0.748             0.575   \n",
       "ins                  0.762             0.904             0.766   \n",
       "global               0.618             0.826             0.671   \n",
       "\n",
       "        sep_metric_mean_std  \n",
       "default      [0.469, 0.009]  \n",
       "ins          [0.208, 0.006]  \n",
       "global       [0.325, 0.005]  "
      ]
     },
     "execution_count": 5,
     "metadata": {},
     "output_type": "execute_result"
    }
   ],
   "source": [
    "get_separation_score(*processed_output)"
   ]
  },
  {
   "cell_type": "code",
   "execution_count": 6,
   "id": "ff9eb4f9-1782-47a1-88c3-145ce4890d6f",
   "metadata": {},
   "outputs": [
    {
     "data": {
      "text/html": [
       "<div>\n",
       "<style scoped>\n",
       "    .dataframe tbody tr th:only-of-type {\n",
       "        vertical-align: middle;\n",
       "    }\n",
       "\n",
       "    .dataframe tbody tr th {\n",
       "        vertical-align: top;\n",
       "    }\n",
       "\n",
       "    .dataframe thead th {\n",
       "        text-align: right;\n",
       "    }\n",
       "</style>\n",
       "<table border=\"1\" class=\"dataframe\">\n",
       "  <thead>\n",
       "    <tr style=\"text-align: right;\">\n",
       "      <th></th>\n",
       "      <th>instr_in_data_asr</th>\n",
       "      <th>instr_in_sys_asr</th>\n",
       "      <th>same_output_rate</th>\n",
       "      <th>sep_metric_mean_std</th>\n",
       "    </tr>\n",
       "  </thead>\n",
       "  <tbody>\n",
       "    <tr>\n",
       "      <th>ll</th>\n",
       "      <td>0.551694</td>\n",
       "      <td>0.776947</td>\n",
       "      <td>0.636604</td>\n",
       "      <td>[0.379, 0.012]</td>\n",
       "    </tr>\n",
       "    <tr>\n",
       "      <th>lr</th>\n",
       "      <td>0.675988</td>\n",
       "      <td>0.770972</td>\n",
       "      <td>0.687528</td>\n",
       "      <td>[0.264, 0.011]</td>\n",
       "    </tr>\n",
       "    <tr>\n",
       "      <th>rl</th>\n",
       "      <td>0.560315</td>\n",
       "      <td>0.875</td>\n",
       "      <td>0.637238</td>\n",
       "      <td>[0.387, 0.011]</td>\n",
       "    </tr>\n",
       "    <tr>\n",
       "      <th>rr</th>\n",
       "      <td>0.682012</td>\n",
       "      <td>0.879795</td>\n",
       "      <td>0.720375</td>\n",
       "      <td>[0.271, 0.01]</td>\n",
       "    </tr>\n",
       "    <tr>\n",
       "      <th>left-any</th>\n",
       "      <td>0.613841</td>\n",
       "      <td>0.773959</td>\n",
       "      <td>0.662066</td>\n",
       "      <td>[0.322, 0.008]</td>\n",
       "    </tr>\n",
       "    <tr>\n",
       "      <th>right-any</th>\n",
       "      <td>0.621163</td>\n",
       "      <td>0.877398</td>\n",
       "      <td>0.678806</td>\n",
       "      <td>[0.328, 0.007]</td>\n",
       "    </tr>\n",
       "    <tr>\n",
       "      <th>any-left</th>\n",
       "      <td>0.556004</td>\n",
       "      <td>0.825973</td>\n",
       "      <td>0.636921</td>\n",
       "      <td>[0.383, 0.008]</td>\n",
       "    </tr>\n",
       "    <tr>\n",
       "      <th>any-right</th>\n",
       "      <td>0.679</td>\n",
       "      <td>0.825384</td>\n",
       "      <td>0.703951</td>\n",
       "      <td>[0.268, 0.007]</td>\n",
       "    </tr>\n",
       "  </tbody>\n",
       "</table>\n",
       "</div>"
      ],
      "text/plain": [
       "          instr_in_data_asr instr_in_sys_asr same_output_rate  \\\n",
       "ll                 0.551694         0.776947         0.636604   \n",
       "lr                 0.675988         0.770972         0.687528   \n",
       "rl                 0.560315            0.875         0.637238   \n",
       "rr                 0.682012         0.879795         0.720375   \n",
       "left-any           0.613841         0.773959         0.662066   \n",
       "right-any          0.621163         0.877398         0.678806   \n",
       "any-left           0.556004         0.825973         0.636921   \n",
       "any-right             0.679         0.825384         0.703951   \n",
       "\n",
       "          sep_metric_mean_std  \n",
       "ll             [0.379, 0.012]  \n",
       "lr             [0.264, 0.011]  \n",
       "rl             [0.387, 0.011]  \n",
       "rr              [0.271, 0.01]  \n",
       "left-any       [0.322, 0.008]  \n",
       "right-any      [0.328, 0.007]  \n",
       "any-left       [0.383, 0.008]  \n",
       "any-right      [0.268, 0.007]  "
      ]
     },
     "execution_count": 6,
     "metadata": {},
     "output_type": "execute_result"
    }
   ],
   "source": [
    "get_score_by_appended_type(*processed_output)"
   ]
  },
  {
   "cell_type": "code",
   "execution_count": 7,
   "id": "aca94a06-6927-4335-a86b-8a5b40bdea1e",
   "metadata": {},
   "outputs": [
    {
     "data": {
      "text/html": [
       "<div>\n",
       "<style scoped>\n",
       "    .dataframe tbody tr th:only-of-type {\n",
       "        vertical-align: middle;\n",
       "    }\n",
       "\n",
       "    .dataframe tbody tr th {\n",
       "        vertical-align: top;\n",
       "    }\n",
       "\n",
       "    .dataframe thead th {\n",
       "        text-align: right;\n",
       "    }\n",
       "</style>\n",
       "<table border=\"1\" class=\"dataframe\">\n",
       "  <thead>\n",
       "    <tr style=\"text-align: right;\">\n",
       "      <th></th>\n",
       "      <th>instr_in_data_asr</th>\n",
       "      <th>instr_in_sys_asr</th>\n",
       "      <th>same_output_rate</th>\n",
       "      <th>sep_metric_mean_std</th>\n",
       "    </tr>\n",
       "  </thead>\n",
       "  <tbody>\n",
       "    <tr>\n",
       "      <th>Information</th>\n",
       "      <td>0.514</td>\n",
       "      <td>0.818</td>\n",
       "      <td>0.606</td>\n",
       "      <td>[0.427, 0.01]</td>\n",
       "    </tr>\n",
       "    <tr>\n",
       "      <th>Analytical</th>\n",
       "      <td>0.644</td>\n",
       "      <td>0.865</td>\n",
       "      <td>0.687</td>\n",
       "      <td>[0.308, 0.009]</td>\n",
       "    </tr>\n",
       "    <tr>\n",
       "      <th>Creative</th>\n",
       "      <td>0.695</td>\n",
       "      <td>0.793</td>\n",
       "      <td>0.719</td>\n",
       "      <td>[0.239, 0.009]</td>\n",
       "    </tr>\n",
       "  </tbody>\n",
       "</table>\n",
       "</div>"
      ],
      "text/plain": [
       "             instr_in_data_asr  instr_in_sys_asr  same_output_rate  \\\n",
       "Information              0.514             0.818             0.606   \n",
       "Analytical               0.644             0.865             0.687   \n",
       "Creative                 0.695             0.793             0.719   \n",
       "\n",
       "            sep_metric_mean_std  \n",
       "Information       [0.427, 0.01]  \n",
       "Analytical       [0.308, 0.009]  \n",
       "Creative         [0.239, 0.009]  "
      ]
     },
     "execution_count": 7,
     "metadata": {},
     "output_type": "execute_result"
    }
   ],
   "source": [
    "get_score_by_domain(*processed_output)"
   ]
  },
  {
   "cell_type": "markdown",
   "id": "f1074bbe-7af7-487d-becc-a8ad400d9c6d",
   "metadata": {},
   "source": [
    "## llama-2-7b"
   ]
  },
  {
   "cell_type": "code",
   "execution_count": null,
   "id": "71db3858-e2ed-4133-913f-ced7cb641bf6",
   "metadata": {},
   "outputs": [],
   "source": []
  },
  {
   "cell_type": "code",
   "execution_count": null,
   "id": "4634e100-7ebb-4279-983b-996762fb5cd7",
   "metadata": {},
   "outputs": [],
   "source": []
  },
  {
   "cell_type": "code",
   "execution_count": null,
   "id": "105f4a27-bcb0-49a8-a485-3b98c21e7a6b",
   "metadata": {},
   "outputs": [],
   "source": []
  },
  {
   "cell_type": "code",
   "execution_count": null,
   "id": "cbcf9cf0-2355-417d-a9ce-d5f0d2127762",
   "metadata": {},
   "outputs": [],
   "source": []
  },
  {
   "cell_type": "code",
   "execution_count": null,
   "id": "03126c19-3a38-4203-8c63-be79d5cd2a8a",
   "metadata": {},
   "outputs": [],
   "source": []
  },
  {
   "cell_type": "markdown",
   "id": "061d79c4-16ea-4371-b13c-bedea3b1fe51",
   "metadata": {},
   "source": [
    "## Separation score on SEP dataset for OpenHermes 2.5"
   ]
  },
  {
   "cell_type": "code",
   "execution_count": null,
   "id": "889fa245-aea7-49b9-89e6-1c9a57d7fe29",
   "metadata": {},
   "outputs": [],
   "source": []
  },
  {
   "cell_type": "code",
   "execution_count": null,
   "id": "f1f716b3-07b2-47e5-ade5-279fe86cdef9",
   "metadata": {},
   "outputs": [],
   "source": []
  },
  {
   "cell_type": "code",
   "execution_count": null,
   "id": "ecd560d9-5e1b-4f53-8201-84f4cd6e624f",
   "metadata": {},
   "outputs": [],
   "source": []
  },
  {
   "cell_type": "code",
   "execution_count": null,
   "id": "200d73a5-0309-4aa6-a7fb-8b053dd0e62c",
   "metadata": {},
   "outputs": [],
   "source": []
  },
  {
   "cell_type": "code",
   "execution_count": null,
   "id": "62f480a9-098a-4ff6-b536-600be6e34fa4",
   "metadata": {},
   "outputs": [],
   "source": []
  },
  {
   "cell_type": "markdown",
   "id": "2bb2d249-d81c-4bb1-8f3e-58aca61b425d",
   "metadata": {},
   "source": [
    "## Separation score on SEP dataset for Dolphin 2.2.1"
   ]
  },
  {
   "cell_type": "code",
   "execution_count": null,
   "id": "c025c393-f7ce-4818-946e-4e44b18260c6",
   "metadata": {},
   "outputs": [],
   "source": []
  },
  {
   "cell_type": "code",
   "execution_count": null,
   "id": "0819bf6e-bb55-41f3-8aab-c99b02dddeee",
   "metadata": {},
   "outputs": [],
   "source": []
  },
  {
   "cell_type": "code",
   "execution_count": null,
   "id": "844aac95-cdff-418b-8337-da721a51a22a",
   "metadata": {},
   "outputs": [],
   "source": []
  },
  {
   "cell_type": "code",
   "execution_count": null,
   "id": "129974d0-a722-4532-bada-95bd93119a18",
   "metadata": {},
   "outputs": [],
   "source": []
  },
  {
   "cell_type": "code",
   "execution_count": null,
   "id": "bf1a75d4-3144-4bec-aced-31873785f621",
   "metadata": {},
   "outputs": [],
   "source": []
  },
  {
   "cell_type": "markdown",
   "id": "8d6ca057-b4de-4516-8dbc-faa693ef44f6",
   "metadata": {},
   "source": [
    "## Separation score on SEP dataset for Zephyr-7b Beta"
   ]
  },
  {
   "cell_type": "code",
   "execution_count": 5,
   "id": "7949270d-fd34-4d35-8c25-74fde901e59b",
   "metadata": {},
   "outputs": [
    {
     "name": "stdout",
     "output_type": "stream",
     "text": [
      "Including 0-7000.json\n",
      "Total items loaded: 2301\n"
     ]
    }
   ],
   "source": [
    "model_outputs = load_json_files_from_dir(\"./model_outputs/zephyr/\")"
   ]
  },
  {
   "cell_type": "code",
   "execution_count": 6,
   "id": "5350abb2-5ecb-4448-aea3-9574af4285eb",
   "metadata": {},
   "outputs": [],
   "source": [
    "processed_output = process_dataset(model_outputs)"
   ]
  },
  {
   "cell_type": "code",
   "execution_count": 8,
   "id": "c76cb435-a395-4771-9cb9-6e821f5056c0",
   "metadata": {},
   "outputs": [
    {
     "data": {
      "text/html": [
       "<div>\n",
       "<style scoped>\n",
       "    .dataframe tbody tr th:only-of-type {\n",
       "        vertical-align: middle;\n",
       "    }\n",
       "\n",
       "    .dataframe tbody tr th {\n",
       "        vertical-align: top;\n",
       "    }\n",
       "\n",
       "    .dataframe thead th {\n",
       "        text-align: right;\n",
       "    }\n",
       "</style>\n",
       "<table border=\"1\" class=\"dataframe\">\n",
       "  <thead>\n",
       "    <tr style=\"text-align: right;\">\n",
       "      <th></th>\n",
       "      <th>instr_in_data_asr</th>\n",
       "      <th>instr_in_sys_asr</th>\n",
       "      <th>same_output_rate</th>\n",
       "      <th>sep_metric_mean_std</th>\n",
       "    </tr>\n",
       "  </thead>\n",
       "  <tbody>\n",
       "    <tr>\n",
       "      <th>default</th>\n",
       "      <td>0.572</td>\n",
       "      <td>0.463</td>\n",
       "      <td>0.556</td>\n",
       "      <td>[0.362, 0.021]</td>\n",
       "    </tr>\n",
       "    <tr>\n",
       "      <th>ins</th>\n",
       "      <td>0.692</td>\n",
       "      <td>0.530</td>\n",
       "      <td>0.597</td>\n",
       "      <td>[0.227, 0.017]</td>\n",
       "    </tr>\n",
       "    <tr>\n",
       "      <th>global</th>\n",
       "      <td>0.633</td>\n",
       "      <td>0.497</td>\n",
       "      <td>0.577</td>\n",
       "      <td>[0.288, 0.013]</td>\n",
       "    </tr>\n",
       "  </tbody>\n",
       "</table>\n",
       "</div>"
      ],
      "text/plain": [
       "         instr_in_data_asr  instr_in_sys_asr  same_output_rate  \\\n",
       "default              0.572             0.463             0.556   \n",
       "ins                  0.692             0.530             0.597   \n",
       "global               0.633             0.497             0.577   \n",
       "\n",
       "        sep_metric_mean_std  \n",
       "default      [0.362, 0.021]  \n",
       "ins          [0.227, 0.017]  \n",
       "global       [0.288, 0.013]  "
      ]
     },
     "execution_count": 8,
     "metadata": {},
     "output_type": "execute_result"
    }
   ],
   "source": [
    "get_separation_score(*processed_output)"
   ]
  },
  {
   "cell_type": "code",
   "execution_count": 9,
   "id": "60711d28-d2ca-4530-ae68-42c0fe154f52",
   "metadata": {},
   "outputs": [
    {
     "data": {
      "text/html": [
       "<div>\n",
       "<style scoped>\n",
       "    .dataframe tbody tr th:only-of-type {\n",
       "        vertical-align: middle;\n",
       "    }\n",
       "\n",
       "    .dataframe tbody tr th {\n",
       "        vertical-align: top;\n",
       "    }\n",
       "\n",
       "    .dataframe thead th {\n",
       "        text-align: right;\n",
       "    }\n",
       "</style>\n",
       "<table border=\"1\" class=\"dataframe\">\n",
       "  <thead>\n",
       "    <tr style=\"text-align: right;\">\n",
       "      <th></th>\n",
       "      <th>instr_in_data_asr</th>\n",
       "      <th>instr_in_sys_asr</th>\n",
       "      <th>same_output_rate</th>\n",
       "      <th>sep_metric_mean_std</th>\n",
       "    </tr>\n",
       "  </thead>\n",
       "  <tbody>\n",
       "    <tr>\n",
       "      <th>ll</th>\n",
       "      <td>0.554152</td>\n",
       "      <td>0.292419</td>\n",
       "      <td>0.539711</td>\n",
       "      <td>[0.34, 0.037]</td>\n",
       "    </tr>\n",
       "    <tr>\n",
       "      <th>lr</th>\n",
       "      <td>0.677138</td>\n",
       "      <td>0.26178</td>\n",
       "      <td>0.472949</td>\n",
       "      <td>[0.213, 0.034]</td>\n",
       "    </tr>\n",
       "    <tr>\n",
       "      <th>rl</th>\n",
       "      <td>0.56304</td>\n",
       "      <td>0.711572</td>\n",
       "      <td>0.592401</td>\n",
       "      <td>[0.391, 0.024]</td>\n",
       "    </tr>\n",
       "    <tr>\n",
       "      <th>rr</th>\n",
       "      <td>0.732773</td>\n",
       "      <td>0.705882</td>\n",
       "      <td>0.697479</td>\n",
       "      <td>[0.195, 0.019]</td>\n",
       "    </tr>\n",
       "    <tr>\n",
       "      <th>left-any</th>\n",
       "      <td>0.615645</td>\n",
       "      <td>0.277099</td>\n",
       "      <td>0.50633</td>\n",
       "      <td>[0.279, 0.025]</td>\n",
       "    </tr>\n",
       "    <tr>\n",
       "      <th>right-any</th>\n",
       "      <td>0.647906</td>\n",
       "      <td>0.708727</td>\n",
       "      <td>0.64494</td>\n",
       "      <td>[0.292, 0.016]</td>\n",
       "    </tr>\n",
       "    <tr>\n",
       "      <th>any-left</th>\n",
       "      <td>0.558596</td>\n",
       "      <td>0.501995</td>\n",
       "      <td>0.566056</td>\n",
       "      <td>[0.376, 0.02]</td>\n",
       "    </tr>\n",
       "    <tr>\n",
       "      <th>any-right</th>\n",
       "      <td>0.704955</td>\n",
       "      <td>0.483831</td>\n",
       "      <td>0.585214</td>\n",
       "      <td>[0.2, 0.017]</td>\n",
       "    </tr>\n",
       "  </tbody>\n",
       "</table>\n",
       "</div>"
      ],
      "text/plain": [
       "          instr_in_data_asr instr_in_sys_asr same_output_rate  \\\n",
       "ll                 0.554152         0.292419         0.539711   \n",
       "lr                 0.677138          0.26178         0.472949   \n",
       "rl                  0.56304         0.711572         0.592401   \n",
       "rr                 0.732773         0.705882         0.697479   \n",
       "left-any           0.615645         0.277099          0.50633   \n",
       "right-any          0.647906         0.708727          0.64494   \n",
       "any-left           0.558596         0.501995         0.566056   \n",
       "any-right          0.704955         0.483831         0.585214   \n",
       "\n",
       "          sep_metric_mean_std  \n",
       "ll              [0.34, 0.037]  \n",
       "lr             [0.213, 0.034]  \n",
       "rl             [0.391, 0.024]  \n",
       "rr             [0.195, 0.019]  \n",
       "left-any       [0.279, 0.025]  \n",
       "right-any      [0.292, 0.016]  \n",
       "any-left        [0.376, 0.02]  \n",
       "any-right        [0.2, 0.017]  "
      ]
     },
     "execution_count": 9,
     "metadata": {},
     "output_type": "execute_result"
    }
   ],
   "source": [
    "get_score_by_appended_type(*processed_output)"
   ]
  },
  {
   "cell_type": "code",
   "execution_count": 10,
   "id": "84ec1ca2-7542-48de-8c78-92732fcff406",
   "metadata": {},
   "outputs": [
    {
     "data": {
      "text/html": [
       "<div>\n",
       "<style scoped>\n",
       "    .dataframe tbody tr th:only-of-type {\n",
       "        vertical-align: middle;\n",
       "    }\n",
       "\n",
       "    .dataframe tbody tr th {\n",
       "        vertical-align: top;\n",
       "    }\n",
       "\n",
       "    .dataframe thead th {\n",
       "        text-align: right;\n",
       "    }\n",
       "</style>\n",
       "<table border=\"1\" class=\"dataframe\">\n",
       "  <thead>\n",
       "    <tr style=\"text-align: right;\">\n",
       "      <th></th>\n",
       "      <th>instr_in_data_asr</th>\n",
       "      <th>instr_in_sys_asr</th>\n",
       "      <th>same_output_rate</th>\n",
       "      <th>sep_metric_mean_std</th>\n",
       "    </tr>\n",
       "  </thead>\n",
       "  <tbody>\n",
       "    <tr>\n",
       "      <th>Information</th>\n",
       "      <td>0.600</td>\n",
       "      <td>0.467</td>\n",
       "      <td>0.587</td>\n",
       "      <td>[0.3, 0.025]</td>\n",
       "    </tr>\n",
       "    <tr>\n",
       "      <th>Analytical</th>\n",
       "      <td>0.642</td>\n",
       "      <td>0.503</td>\n",
       "      <td>0.561</td>\n",
       "      <td>[0.298, 0.022]</td>\n",
       "    </tr>\n",
       "    <tr>\n",
       "      <th>Creative</th>\n",
       "      <td>0.657</td>\n",
       "      <td>0.521</td>\n",
       "      <td>0.585</td>\n",
       "      <td>[0.268, 0.023]</td>\n",
       "    </tr>\n",
       "  </tbody>\n",
       "</table>\n",
       "</div>"
      ],
      "text/plain": [
       "             instr_in_data_asr  instr_in_sys_asr  same_output_rate  \\\n",
       "Information              0.600             0.467             0.587   \n",
       "Analytical               0.642             0.503             0.561   \n",
       "Creative                 0.657             0.521             0.585   \n",
       "\n",
       "            sep_metric_mean_std  \n",
       "Information        [0.3, 0.025]  \n",
       "Analytical       [0.298, 0.022]  \n",
       "Creative         [0.268, 0.023]  "
      ]
     },
     "execution_count": 10,
     "metadata": {},
     "output_type": "execute_result"
    }
   ],
   "source": [
    "get_score_by_domain(*processed_output)"
   ]
  },
  {
   "cell_type": "markdown",
   "id": "7e52f6bb-5d9e-43b7-aebc-c8df788b6d55",
   "metadata": {},
   "source": [
    "## Separation score on SEP dataset for GPT-3.5"
   ]
  },
  {
   "cell_type": "code",
   "execution_count": null,
   "id": "2ccdbf2d-19d4-4d7f-91fc-ca049cfac1b8",
   "metadata": {},
   "outputs": [],
   "source": []
  },
  {
   "cell_type": "code",
   "execution_count": null,
   "id": "f99f7f22-ebc6-4f42-97cf-b4c42e2259b8",
   "metadata": {},
   "outputs": [],
   "source": []
  },
  {
   "cell_type": "code",
   "execution_count": null,
   "id": "432cdd46-d9a5-47ba-8e28-1c4c3821d3fc",
   "metadata": {},
   "outputs": [],
   "source": []
  },
  {
   "cell_type": "code",
   "execution_count": null,
   "id": "a1a46622-4422-4fa9-ad79-2d9419302b54",
   "metadata": {},
   "outputs": [],
   "source": []
  },
  {
   "cell_type": "code",
   "execution_count": null,
   "id": "0dd1b0e3-aed4-4063-8a5d-e67e7e997cd8",
   "metadata": {},
   "outputs": [],
   "source": []
  },
  {
   "cell_type": "markdown",
   "id": "d0c0c7b3-cf55-4bc2-ab8d-b8cddd5ce34b",
   "metadata": {},
   "source": [
    "## Separation score on SEP dataset for GPT-4"
   ]
  },
  {
   "cell_type": "code",
   "execution_count": null,
   "id": "daf911b5-d999-40d6-b375-58d5c57e2496",
   "metadata": {},
   "outputs": [],
   "source": []
  },
  {
   "cell_type": "code",
   "execution_count": null,
   "id": "1fbde60c-85d7-46e0-9663-81e52988921d",
   "metadata": {},
   "outputs": [],
   "source": []
  },
  {
   "cell_type": "code",
   "execution_count": null,
   "id": "74d26ca1-614c-417f-a771-5647ced7a28c",
   "metadata": {},
   "outputs": [],
   "source": []
  },
  {
   "cell_type": "code",
   "execution_count": null,
   "id": "eea408f4-26a2-4bc8-80bd-c9467edff404",
   "metadata": {},
   "outputs": [],
   "source": []
  },
  {
   "cell_type": "code",
   "execution_count": null,
   "id": "92e1fc15-a0d6-4d6d-92d9-0013f69a1352",
   "metadata": {},
   "outputs": [],
   "source": []
  }
 ],
 "metadata": {
  "kernelspec": {
   "display_name": "Python 3 (ipykernel)",
   "language": "python",
   "name": "python3"
  },
  "language_info": {
   "codemirror_mode": {
    "name": "ipython",
    "version": 3
   },
   "file_extension": ".py",
   "mimetype": "text/x-python",
   "name": "python",
   "nbconvert_exporter": "python",
   "pygments_lexer": "ipython3",
   "version": "3.9.9"
  }
 },
 "nbformat": 4,
 "nbformat_minor": 5
}
